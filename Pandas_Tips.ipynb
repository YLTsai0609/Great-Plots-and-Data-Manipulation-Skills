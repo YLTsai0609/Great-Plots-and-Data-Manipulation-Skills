{
 "cells": [
  {
   "cell_type": "code",
   "execution_count": 1,
   "metadata": {
    "ExecuteTime": {
     "end_time": "2018-12-12T06:03:15.443697Z",
     "start_time": "2018-12-12T06:03:01.459159Z"
    },
    "code_folding": [
     20
    ],
    "collapsed": true
   },
   "outputs": [],
   "source": [
    "import numpy as np \n",
    "import pandas as pd \n",
    "import matplotlib.pyplot as plt\n",
    "import seaborn as sns\n",
    "%matplotlib inline\n",
    "# for display dataframe\n",
    "from IPython.display import display\n",
    "from IPython.display import display_html\n",
    "def display_side_by_side(*args):\n",
    "    html_str=''\n",
    "    for df in args:\n",
    "        html_str+=df.to_html()\n",
    "    display_html(html_str.replace('table','table style=\"display:inline\"'),raw=True)\n",
    "import matplotlib.ticker as ticker\n",
    "\n",
    "import matplotlib.scale as mscale\n",
    "import matplotlib.pyplot as plt\n",
    "import matplotlib.transforms as mtransforms\n",
    "import matplotlib.ticker as ticker\n",
    "\n",
    "class SquareRootScale(mscale.ScaleBase):\n",
    "    \"\"\"\n",
    "    ScaleBase class for generating square root scale.\n",
    "    \"\"\"\n",
    "\n",
    "    name = 'squareroot'\n",
    "\n",
    "    def __init__(self, axis, **kwargs):\n",
    "        mscale.ScaleBase.__init__(self)\n",
    "\n",
    "    def set_default_locators_and_formatters(self, axis):\n",
    "        axis.set_major_locator(ticker.AutoLocator())\n",
    "        axis.set_major_formatter(ticker.ScalarFormatter())\n",
    "        axis.set_minor_locator(ticker.NullLocator())\n",
    "        axis.set_minor_formatter(ticker.NullFormatter())\n",
    "\n",
    "    def limit_range_for_scale(self, vmin, vmax, minpos):\n",
    "        return  max(0., vmin), vmax\n",
    "\n",
    "    class SquareRootTransform(mtransforms.Transform):\n",
    "        input_dims = 1\n",
    "        output_dims = 1\n",
    "        is_separable = True\n",
    "\n",
    "        def transform_non_affine(self, a): \n",
    "            return np.array(a)**0.5\n",
    "\n",
    "        def inverted(self):\n",
    "            return SquareRootScale.InvertedSquareRootTransform()\n",
    "\n",
    "    class InvertedSquareRootTransform(mtransforms.Transform):\n",
    "        input_dims = 1\n",
    "        output_dims = 1\n",
    "        is_separable = True\n",
    "\n",
    "        def transform(self, a):\n",
    "            return np.array(a)**2\n",
    "\n",
    "        def inverted(self):\n",
    "            return SquareRootScale.SquareRootTransform()\n",
    "\n",
    "    def get_transform(self):\n",
    "        return self.SquareRootTransform()\n",
    "\n",
    "mscale.register_scale(SquareRootScale)"
   ]
  },
  {
   "cell_type": "markdown",
   "metadata": {},
   "source": [
    "* [Markdown tips](https://guides.github.com/features/mastering-markdown/)"
   ]
  },
  {
   "cell_type": "code",
   "execution_count": 2,
   "metadata": {
    "ExecuteTime": {
     "end_time": "2018-12-12T06:04:18.042539Z",
     "start_time": "2018-12-12T06:03:26.377568Z"
    }
   },
   "outputs": [
    {
     "data": {
      "text/html": [
       "<div>\n",
       "<style scoped>\n",
       "    .dataframe tbody tr th:only-of-type {\n",
       "        vertical-align: middle;\n",
       "    }\n",
       "\n",
       "    .dataframe tbody tr th {\n",
       "        vertical-align: top;\n",
       "    }\n",
       "\n",
       "    .dataframe thead th {\n",
       "        text-align: right;\n",
       "    }\n",
       "</style>\n",
       "<table border=\"1\" class=\"dataframe\">\n",
       "  <thead>\n",
       "    <tr style=\"text-align: right;\">\n",
       "      <th></th>\n",
       "      <th>msno</th>\n",
       "      <th>is_churn</th>\n",
       "      <th>city</th>\n",
       "      <th>bd</th>\n",
       "      <th>gender</th>\n",
       "      <th>registered_via</th>\n",
       "      <th>registration_init_time</th>\n",
       "    </tr>\n",
       "  </thead>\n",
       "  <tbody>\n",
       "    <tr>\n",
       "      <th>0</th>\n",
       "      <td>++4RuqBw0Ss6bQU4oMxaRlbBPoWzoEiIZaxPM04Y4+U=</td>\n",
       "      <td>0</td>\n",
       "      <td>1.0</td>\n",
       "      <td>0.0</td>\n",
       "      <td>NaN</td>\n",
       "      <td>7.0</td>\n",
       "      <td>20140714.0</td>\n",
       "    </tr>\n",
       "    <tr>\n",
       "      <th>1</th>\n",
       "      <td>+/HS8LzrRGXolKbxRzDLqrmwuXqPOYixBIPXkyNcKNI=</td>\n",
       "      <td>0</td>\n",
       "      <td>NaN</td>\n",
       "      <td>NaN</td>\n",
       "      <td>NaN</td>\n",
       "      <td>NaN</td>\n",
       "      <td>NaN</td>\n",
       "    </tr>\n",
       "    <tr>\n",
       "      <th>2</th>\n",
       "      <td>+/g9O3USecrC8npzaFHXW/2XJ7fB80SineiUoCg7M6o=</td>\n",
       "      <td>0</td>\n",
       "      <td>NaN</td>\n",
       "      <td>NaN</td>\n",
       "      <td>NaN</td>\n",
       "      <td>NaN</td>\n",
       "      <td>NaN</td>\n",
       "    </tr>\n",
       "    <tr>\n",
       "      <th>3</th>\n",
       "      <td>+/namlXq+u3izRjHCFJV4MgqcXcLidZYszVsROOq/y4=</td>\n",
       "      <td>0</td>\n",
       "      <td>15.0</td>\n",
       "      <td>31.0</td>\n",
       "      <td>male</td>\n",
       "      <td>9.0</td>\n",
       "      <td>20060603.0</td>\n",
       "    </tr>\n",
       "    <tr>\n",
       "      <th>4</th>\n",
       "      <td>+0/X9tkmyHyet9X80G6GTrDFHnJqvai8d1ZPhayT0os=</td>\n",
       "      <td>0</td>\n",
       "      <td>9.0</td>\n",
       "      <td>31.0</td>\n",
       "      <td>male</td>\n",
       "      <td>9.0</td>\n",
       "      <td>20040330.0</td>\n",
       "    </tr>\n",
       "  </tbody>\n",
       "</table>\n",
       "</div>"
      ],
      "text/plain": [
       "                                           msno  is_churn  city    bd gender  \\\n",
       "0  ++4RuqBw0Ss6bQU4oMxaRlbBPoWzoEiIZaxPM04Y4+U=         0   1.0   0.0    NaN   \n",
       "1  +/HS8LzrRGXolKbxRzDLqrmwuXqPOYixBIPXkyNcKNI=         0   NaN   NaN    NaN   \n",
       "2  +/g9O3USecrC8npzaFHXW/2XJ7fB80SineiUoCg7M6o=         0   NaN   NaN    NaN   \n",
       "3  +/namlXq+u3izRjHCFJV4MgqcXcLidZYszVsROOq/y4=         0  15.0  31.0   male   \n",
       "4  +0/X9tkmyHyet9X80G6GTrDFHnJqvai8d1ZPhayT0os=         0   9.0  31.0   male   \n",
       "\n",
       "   registered_via  registration_init_time  \n",
       "0             7.0              20140714.0  \n",
       "1             NaN                     NaN  \n",
       "2             NaN                     NaN  \n",
       "3             9.0              20060603.0  \n",
       "4             9.0              20040330.0  "
      ]
     },
     "execution_count": 2,
     "metadata": {},
     "output_type": "execute_result"
    }
   ],
   "source": [
    "df_train = pd.read_csv('user_label_201703.gzip',compression='gzip')\n",
    "df_member = pd.read_csv('members_v3.gzip',compression='gzip')\n",
    "df_train = pd.merge(df_train, df_member,how='left',on='msno')\n",
    "df_train.head()"
   ]
  },
  {
   "cell_type": "markdown",
   "metadata": {},
   "source": [
    "# Check missing value"
   ]
  },
  {
   "cell_type": "markdown",
   "metadata": {},
   "source": [
    "## info"
   ]
  },
  {
   "cell_type": "code",
   "execution_count": 3,
   "metadata": {
    "ExecuteTime": {
     "end_time": "2018-12-12T06:04:18.493280Z",
     "start_time": "2018-12-12T06:04:18.050515Z"
    }
   },
   "outputs": [
    {
     "name": "stdout",
     "output_type": "stream",
     "text": [
      "<class 'pandas.core.frame.DataFrame'>\n",
      "Int64Index: 886500 entries, 0 to 886499\n",
      "Data columns (total 7 columns):\n",
      "msno                      886500 non-null object\n",
      "is_churn                  886500 non-null int64\n",
      "city                      777751 non-null float64\n",
      "bd                        777751 non-null float64\n",
      "gender                    316977 non-null object\n",
      "registered_via            777751 non-null float64\n",
      "registration_init_time    777751 non-null float64\n",
      "dtypes: float64(4), int64(1), object(2)\n",
      "memory usage: 54.1+ MB\n"
     ]
    }
   ],
   "source": [
    "df_train.info()"
   ]
  },
  {
   "cell_type": "markdown",
   "metadata": {},
   "source": [
    "## isnull, notnull"
   ]
  },
  {
   "cell_type": "code",
   "execution_count": 4,
   "metadata": {
    "ExecuteTime": {
     "end_time": "2018-12-12T06:04:28.627828Z",
     "start_time": "2018-12-12T06:04:18.497259Z"
    }
   },
   "outputs": [
    {
     "name": "stdout",
     "output_type": "stream",
     "text": [
      "訓練集\n",
      " msno                      0.000\n",
      "is_churn                  0.000\n",
      "city                      0.123\n",
      "bd                        0.123\n",
      "gender                    0.642\n",
      "registered_via            0.123\n",
      "registration_init_time    0.123\n",
      "dtype: float64\n",
      "____________________________________________________________\n",
      "訓練集\n",
      " msno                           0\n",
      "is_churn                       0\n",
      "city                      108749\n",
      "bd                        108749\n",
      "gender                    569523\n",
      "registered_via            108749\n",
      "registration_init_time    108749\n",
      "dtype: int64\n"
     ]
    }
   ],
   "source": [
    "# \\n 換行\n",
    "# percertage\n",
    "print(\"訓練集\\n\",np.around(df_train.isnull().sum()/len(df_train), decimals=3) )\n",
    "print('_'*60)\n",
    "# 數量\n",
    "print(\"訓練集\\n\", df_train.isnull().sum())"
   ]
  },
  {
   "cell_type": "code",
   "execution_count": 5,
   "metadata": {
    "ExecuteTime": {
     "end_time": "2018-12-12T06:04:31.452229Z",
     "start_time": "2018-12-12T06:04:28.632824Z"
    }
   },
   "outputs": [
    {
     "data": {
      "text/html": [
       "<div>\n",
       "<style scoped>\n",
       "    .dataframe tbody tr th:only-of-type {\n",
       "        vertical-align: middle;\n",
       "    }\n",
       "\n",
       "    .dataframe tbody tr th {\n",
       "        vertical-align: top;\n",
       "    }\n",
       "\n",
       "    .dataframe thead th {\n",
       "        text-align: right;\n",
       "    }\n",
       "</style>\n",
       "<table border=\"1\" class=\"dataframe\">\n",
       "  <thead>\n",
       "    <tr style=\"text-align: right;\">\n",
       "      <th></th>\n",
       "      <th>is_churn</th>\n",
       "      <th>city</th>\n",
       "      <th>bd</th>\n",
       "      <th>registered_via</th>\n",
       "      <th>registration_init_time</th>\n",
       "    </tr>\n",
       "  </thead>\n",
       "  <tbody>\n",
       "    <tr>\n",
       "      <th>count</th>\n",
       "      <td>886500.000000</td>\n",
       "      <td>777751.000000</td>\n",
       "      <td>777751.000000</td>\n",
       "      <td>777751.000000</td>\n",
       "      <td>7.777510e+05</td>\n",
       "    </tr>\n",
       "    <tr>\n",
       "      <th>mean</th>\n",
       "      <td>0.049255</td>\n",
       "      <td>5.340605</td>\n",
       "      <td>12.203809</td>\n",
       "      <td>6.873295</td>\n",
       "      <td>2.013485e+07</td>\n",
       "    </tr>\n",
       "    <tr>\n",
       "      <th>std</th>\n",
       "      <td>0.216401</td>\n",
       "      <td>6.215780</td>\n",
       "      <td>19.096576</td>\n",
       "      <td>1.838955</td>\n",
       "      <td>2.904196e+04</td>\n",
       "    </tr>\n",
       "    <tr>\n",
       "      <th>min</th>\n",
       "      <td>0.000000</td>\n",
       "      <td>1.000000</td>\n",
       "      <td>-3152.000000</td>\n",
       "      <td>3.000000</td>\n",
       "      <td>2.004033e+07</td>\n",
       "    </tr>\n",
       "    <tr>\n",
       "      <th>25%</th>\n",
       "      <td>0.000000</td>\n",
       "      <td>1.000000</td>\n",
       "      <td>0.000000</td>\n",
       "      <td>7.000000</td>\n",
       "      <td>2.012061e+07</td>\n",
       "    </tr>\n",
       "    <tr>\n",
       "      <th>50%</th>\n",
       "      <td>0.000000</td>\n",
       "      <td>1.000000</td>\n",
       "      <td>0.000000</td>\n",
       "      <td>7.000000</td>\n",
       "      <td>2.014100e+07</td>\n",
       "    </tr>\n",
       "    <tr>\n",
       "      <th>75%</th>\n",
       "      <td>0.000000</td>\n",
       "      <td>10.000000</td>\n",
       "      <td>26.000000</td>\n",
       "      <td>7.000000</td>\n",
       "      <td>2.016020e+07</td>\n",
       "    </tr>\n",
       "    <tr>\n",
       "      <th>max</th>\n",
       "      <td>1.000000</td>\n",
       "      <td>22.000000</td>\n",
       "      <td>2016.000000</td>\n",
       "      <td>13.000000</td>\n",
       "      <td>2.017042e+07</td>\n",
       "    </tr>\n",
       "  </tbody>\n",
       "</table>\n",
       "</div>"
      ],
      "text/plain": [
       "            is_churn           city             bd  registered_via  \\\n",
       "count  886500.000000  777751.000000  777751.000000   777751.000000   \n",
       "mean        0.049255       5.340605      12.203809        6.873295   \n",
       "std         0.216401       6.215780      19.096576        1.838955   \n",
       "min         0.000000       1.000000   -3152.000000        3.000000   \n",
       "25%         0.000000       1.000000       0.000000        7.000000   \n",
       "50%         0.000000       1.000000       0.000000        7.000000   \n",
       "75%         0.000000      10.000000      26.000000        7.000000   \n",
       "max         1.000000      22.000000    2016.000000       13.000000   \n",
       "\n",
       "       registration_init_time  \n",
       "count            7.777510e+05  \n",
       "mean             2.013485e+07  \n",
       "std              2.904196e+04  \n",
       "min              2.004033e+07  \n",
       "25%              2.012061e+07  \n",
       "50%              2.014100e+07  \n",
       "75%              2.016020e+07  \n",
       "max              2.017042e+07  "
      ]
     },
     "metadata": {},
     "output_type": "display_data"
    },
    {
     "data": {
      "text/html": [
       "<div>\n",
       "<style scoped>\n",
       "    .dataframe tbody tr th:only-of-type {\n",
       "        vertical-align: middle;\n",
       "    }\n",
       "\n",
       "    .dataframe tbody tr th {\n",
       "        vertical-align: top;\n",
       "    }\n",
       "\n",
       "    .dataframe thead th {\n",
       "        text-align: right;\n",
       "    }\n",
       "</style>\n",
       "<table border=\"1\" class=\"dataframe\">\n",
       "  <thead>\n",
       "    <tr style=\"text-align: right;\">\n",
       "      <th></th>\n",
       "      <th>msno</th>\n",
       "      <th>gender</th>\n",
       "    </tr>\n",
       "  </thead>\n",
       "  <tbody>\n",
       "    <tr>\n",
       "      <th>count</th>\n",
       "      <td>886500</td>\n",
       "      <td>316977</td>\n",
       "    </tr>\n",
       "    <tr>\n",
       "      <th>unique</th>\n",
       "      <td>886500</td>\n",
       "      <td>2</td>\n",
       "    </tr>\n",
       "    <tr>\n",
       "      <th>top</th>\n",
       "      <td>00QNCbyHjVcFQ1RbhsV7h4TrZmv+ivBGOOVERTgFpX4=</td>\n",
       "      <td>male</td>\n",
       "    </tr>\n",
       "    <tr>\n",
       "      <th>freq</th>\n",
       "      <td>1</td>\n",
       "      <td>167622</td>\n",
       "    </tr>\n",
       "  </tbody>\n",
       "</table>\n",
       "</div>"
      ],
      "text/plain": [
       "                                                msno  gender\n",
       "count                                         886500  316977\n",
       "unique                                        886500       2\n",
       "top     00QNCbyHjVcFQ1RbhsV7h4TrZmv+ivBGOOVERTgFpX4=    male\n",
       "freq                                               1  167622"
      ]
     },
     "metadata": {},
     "output_type": "display_data"
    }
   ],
   "source": [
    "# describe with nonnull\n",
    "# describe numerical default\n",
    "display(df_train[df_train.notnull()].describe())\n",
    "# use include=['O'] for object\n",
    "display(df_train.describe(include=['O']))"
   ]
  },
  {
   "cell_type": "markdown",
   "metadata": {},
   "source": [
    "# Beginner"
   ]
  },
  {
   "cell_type": "markdown",
   "metadata": {},
   "source": [
    "## the reason aobut axis = 0 , 1"
   ]
  },
  {
   "cell_type": "code",
   "execution_count": 6,
   "metadata": {
    "ExecuteTime": {
     "end_time": "2018-12-12T06:04:31.467205Z",
     "start_time": "2018-12-12T06:04:31.455209Z"
    }
   },
   "outputs": [
    {
     "data": {
      "text/plain": [
       "(886500, 7)"
      ]
     },
     "execution_count": 6,
     "metadata": {},
     "output_type": "execute_result"
    }
   ],
   "source": [
    "# axis=0 and axis=1\n",
    "df_train.shape # rows aixs=0, columns aixs=1"
   ]
  },
  {
   "cell_type": "markdown",
   "metadata": {},
   "source": [
    "## arange & linspace to create np.array"
   ]
  },
  {
   "cell_type": "code",
   "execution_count": 20,
   "metadata": {
    "ExecuteTime": {
     "end_time": "2018-12-12T06:05:16.250273Z",
     "start_time": "2018-12-12T06:05:16.240279Z"
    }
   },
   "outputs": [
    {
     "name": "stdout",
     "output_type": "stream",
     "text": [
      "np_arange like:  [0 1 2] [3.  3.4 3.8 4.2 4.6]\n",
      "____________________________________________________________\n",
      "np.linspace like : [3.  3.5 4.  4.5 5. ]\n"
     ]
    }
   ],
   "source": [
    "# numpy_array linspace and arange\n",
    "# np.arange?\n",
    "print('np_arange like: ',np.arange(3),np.arange(3,5,0.4))\n",
    "print('_'*60)\n",
    "# np.linspace?\n",
    "print('np.linspace like :',np.linspace(3,5,5))"
   ]
  },
  {
   "cell_type": "markdown",
   "metadata": {},
   "source": [
    "## list comprehesion for clear readable code"
   ]
  },
  {
   "cell_type": "code",
   "execution_count": 8,
   "metadata": {
    "ExecuteTime": {
     "end_time": "2018-12-12T06:04:32.288731Z",
     "start_time": "2018-12-12T06:04:32.277738Z"
    }
   },
   "outputs": [
    {
     "name": "stdout",
     "output_type": "stream",
     "text": [
      "All columns:  ['msno', 'is_churn', 'city', 'bd', 'gender', 'registered_via', 'registration_init_time']\n",
      "Using features:  ['city', 'bd', 'gender', 'registered_via', 'registration_init_time']\n"
     ]
    }
   ],
   "source": [
    "# list comprehesion\n",
    "exclude_fts = ['msno','is_churn']\n",
    "print('All columns: ',[f for f \n",
    "                       in df_train.columns])\n",
    "print('Using features: ',[f for f \n",
    "                          in df_train.columns \n",
    "                          if f not in exclude_fts])\n",
    "# just like SQL, \n",
    "# SELECT f \n",
    "# FROM df_train.columns\n",
    "# WHERE f not in exclude_fts"
   ]
  },
  {
   "cell_type": "markdown",
   "metadata": {},
   "source": [
    "## less or more significant digit"
   ]
  },
  {
   "cell_type": "code",
   "execution_count": 9,
   "metadata": {
    "ExecuteTime": {
     "end_time": "2018-12-12T06:04:32.559575Z",
     "start_time": "2018-12-12T06:04:32.292732Z"
    }
   },
   "outputs": [
    {
     "name": "stdout",
     "output_type": "stream",
     "text": [
      "0.459\n",
      "0.459\n"
     ]
    },
    {
     "data": {
      "text/html": [
       "<div>\n",
       "<style scoped>\n",
       "    .dataframe tbody tr th:only-of-type {\n",
       "        vertical-align: middle;\n",
       "    }\n",
       "\n",
       "    .dataframe tbody tr th {\n",
       "        vertical-align: top;\n",
       "    }\n",
       "\n",
       "    .dataframe thead th {\n",
       "        text-align: right;\n",
       "    }\n",
       "</style>\n",
       "<table border=\"1\" class=\"dataframe\">\n",
       "  <thead>\n",
       "    <tr style=\"text-align: right;\">\n",
       "      <th></th>\n",
       "      <th>A</th>\n",
       "    </tr>\n",
       "  </thead>\n",
       "  <tbody>\n",
       "    <tr>\n",
       "      <th>0</th>\n",
       "      <td>10.00</td>\n",
       "    </tr>\n",
       "    <tr>\n",
       "      <th>1</th>\n",
       "      <td>10.26</td>\n",
       "    </tr>\n",
       "    <tr>\n",
       "      <th>2</th>\n",
       "      <td>10.51</td>\n",
       "    </tr>\n",
       "    <tr>\n",
       "      <th>3</th>\n",
       "      <td>10.77</td>\n",
       "    </tr>\n",
       "    <tr>\n",
       "      <th>4</th>\n",
       "      <td>11.03</td>\n",
       "    </tr>\n",
       "  </tbody>\n",
       "</table>\n",
       "</div>"
      ],
      "text/plain": [
       "       A\n",
       "0  10.00\n",
       "1  10.26\n",
       "2  10.51\n",
       "3  10.77\n",
       "4  11.03"
      ]
     },
     "execution_count": 9,
     "metadata": {},
     "output_type": "execute_result"
    }
   ],
   "source": [
    "# show less or more significant digit\n",
    "# np_array\n",
    "print( np.around(0.45913,decimals=3) )\n",
    "# C/C++ style  %.3f\n",
    "print(\"%.3f\" %(0.459132))\n",
    "# dataframe\n",
    "df = pd.DataFrame({'A':np.linspace(10,20,40)})\n",
    "df.round(2).head()"
   ]
  },
  {
   "cell_type": "markdown",
   "metadata": {},
   "source": [
    "## lambda function"
   ]
  },
  {
   "cell_type": "code",
   "execution_count": 10,
   "metadata": {
    "ExecuteTime": {
     "end_time": "2018-12-12T06:04:32.961347Z",
     "start_time": "2018-12-12T06:04:32.563573Z"
    }
   },
   "outputs": [
    {
     "data": {
      "text/plain": [
       "0     10.000000\n",
       "5     11.282051\n",
       "10    12.564103\n",
       "15    13.846154\n",
       "20     1.000000\n",
       "25     1.000000\n",
       "30     1.000000\n",
       "35     1.000000\n",
       "Name: D, dtype: float64"
      ]
     },
     "execution_count": 10,
     "metadata": {},
     "output_type": "execute_result"
    }
   ],
   "source": [
    "# lambda function\n",
    "# we cannot assign x=1, just lambda x : 1\n",
    "# apply is series object method\n",
    "df['D'] = df['A'].apply(lambda x : 1 if x > 15 else x)\n",
    "df.loc[::5,'D']"
   ]
  },
  {
   "cell_type": "code",
   "execution_count": 11,
   "metadata": {
    "ExecuteTime": {
     "end_time": "2018-12-12T06:04:33.334133Z",
     "start_time": "2018-12-12T06:04:32.965344Z"
    }
   },
   "outputs": [
    {
     "data": {
      "text/plain": [
       "0     3\n",
       "5     3\n",
       "10    2\n",
       "15    2\n",
       "20    1\n",
       "25    1\n",
       "30    1\n",
       "35    1\n",
       "Name: D, dtype: int64"
      ]
     },
     "execution_count": 11,
     "metadata": {},
     "output_type": "execute_result"
    }
   ],
   "source": [
    "# lambda function with muitiple condition\n",
    "# x : 1 if 20 > x >= 15 else 2 if x > 15 else x\n",
    "# ::2 means per 5 elements\n",
    "df['D'] = df['A'].apply(lambda x : 1 if 20 > x >= 15 else 2 if 15 > x > 12 else 3)\n",
    "df.loc[::5,'D']"
   ]
  },
  {
   "cell_type": "markdown",
   "metadata": {},
   "source": [
    "### lambda function warning"
   ]
  },
  {
   "cell_type": "markdown",
   "metadata": {},
   "source": [
    "* When you handling 10 millons of row data, avoid using lambda function. although it's be vectorlized but still slow\n",
    "* Try boolean mask first, then lambda function"
   ]
  },
  {
   "cell_type": "markdown",
   "metadata": {},
   "source": [
    "## arrange index and columns"
   ]
  },
  {
   "cell_type": "code",
   "execution_count": 12,
   "metadata": {
    "ExecuteTime": {
     "end_time": "2018-12-12T06:04:33.636960Z",
     "start_time": "2018-12-12T06:04:33.338130Z"
    }
   },
   "outputs": [
    {
     "data": {
      "text/plain": [
       "array(['msno', 'is_churn', 'city', 'bd', 'gender', 'registered_via',\n",
       "       'registration_init_time'], dtype=object)"
      ]
     },
     "execution_count": 12,
     "metadata": {},
     "output_type": "execute_result"
    }
   ],
   "source": [
    "# arrange columns\n",
    "col = df_train.columns.values\n",
    "col"
   ]
  },
  {
   "cell_type": "code",
   "execution_count": 13,
   "metadata": {
    "ExecuteTime": {
     "end_time": "2018-12-12T06:04:33.972768Z",
     "start_time": "2018-12-12T06:04:33.639957Z"
    }
   },
   "outputs": [
    {
     "data": {
      "text/html": [
       "<div>\n",
       "<style scoped>\n",
       "    .dataframe tbody tr th:only-of-type {\n",
       "        vertical-align: middle;\n",
       "    }\n",
       "\n",
       "    .dataframe tbody tr th {\n",
       "        vertical-align: top;\n",
       "    }\n",
       "\n",
       "    .dataframe thead th {\n",
       "        text-align: right;\n",
       "    }\n",
       "</style>\n",
       "<table border=\"1\" class=\"dataframe\">\n",
       "  <thead>\n",
       "    <tr style=\"text-align: right;\">\n",
       "      <th></th>\n",
       "      <th>city</th>\n",
       "      <th>bd</th>\n",
       "      <th>gender</th>\n",
       "      <th>registered_via</th>\n",
       "      <th>msno</th>\n",
       "      <th>registration_init_time</th>\n",
       "    </tr>\n",
       "  </thead>\n",
       "  <tbody>\n",
       "    <tr>\n",
       "      <th>0</th>\n",
       "      <td>1.0</td>\n",
       "      <td>0.0</td>\n",
       "      <td>NaN</td>\n",
       "      <td>7.0</td>\n",
       "      <td>++4RuqBw0Ss6bQU4oMxaRlbBPoWzoEiIZaxPM04Y4+U=</td>\n",
       "      <td>20140714.0</td>\n",
       "    </tr>\n",
       "    <tr>\n",
       "      <th>1</th>\n",
       "      <td>NaN</td>\n",
       "      <td>NaN</td>\n",
       "      <td>NaN</td>\n",
       "      <td>NaN</td>\n",
       "      <td>+/HS8LzrRGXolKbxRzDLqrmwuXqPOYixBIPXkyNcKNI=</td>\n",
       "      <td>NaN</td>\n",
       "    </tr>\n",
       "    <tr>\n",
       "      <th>2</th>\n",
       "      <td>NaN</td>\n",
       "      <td>NaN</td>\n",
       "      <td>NaN</td>\n",
       "      <td>NaN</td>\n",
       "      <td>+/g9O3USecrC8npzaFHXW/2XJ7fB80SineiUoCg7M6o=</td>\n",
       "      <td>NaN</td>\n",
       "    </tr>\n",
       "    <tr>\n",
       "      <th>3</th>\n",
       "      <td>15.0</td>\n",
       "      <td>31.0</td>\n",
       "      <td>male</td>\n",
       "      <td>9.0</td>\n",
       "      <td>+/namlXq+u3izRjHCFJV4MgqcXcLidZYszVsROOq/y4=</td>\n",
       "      <td>20060603.0</td>\n",
       "    </tr>\n",
       "    <tr>\n",
       "      <th>4</th>\n",
       "      <td>9.0</td>\n",
       "      <td>31.0</td>\n",
       "      <td>male</td>\n",
       "      <td>9.0</td>\n",
       "      <td>+0/X9tkmyHyet9X80G6GTrDFHnJqvai8d1ZPhayT0os=</td>\n",
       "      <td>20040330.0</td>\n",
       "    </tr>\n",
       "  </tbody>\n",
       "</table>\n",
       "</div>"
      ],
      "text/plain": [
       "   city    bd gender  registered_via  \\\n",
       "0   1.0   0.0    NaN             7.0   \n",
       "1   NaN   NaN    NaN             NaN   \n",
       "2   NaN   NaN    NaN             NaN   \n",
       "3  15.0  31.0   male             9.0   \n",
       "4   9.0  31.0   male             9.0   \n",
       "\n",
       "                                           msno  registration_init_time  \n",
       "0  ++4RuqBw0Ss6bQU4oMxaRlbBPoWzoEiIZaxPM04Y4+U=              20140714.0  \n",
       "1  +/HS8LzrRGXolKbxRzDLqrmwuXqPOYixBIPXkyNcKNI=                     NaN  \n",
       "2  +/g9O3USecrC8npzaFHXW/2XJ7fB80SineiUoCg7M6o=                     NaN  \n",
       "3  +/namlXq+u3izRjHCFJV4MgqcXcLidZYszVsROOq/y4=              20060603.0  \n",
       "4  +0/X9tkmyHyet9X80G6GTrDFHnJqvai8d1ZPhayT0os=              20040330.0  "
      ]
     },
     "execution_count": 13,
     "metadata": {},
     "output_type": "execute_result"
    }
   ],
   "source": [
    "recol_df = df_train.reindex(columns=['city','bd','gender','registered_via','msno','registration_init_time'])\n",
    "recol_df.head()"
   ]
  },
  {
   "cell_type": "code",
   "execution_count": 14,
   "metadata": {
    "ExecuteTime": {
     "end_time": "2018-12-12T06:04:34.395525Z",
     "start_time": "2018-12-12T06:04:33.977763Z"
    },
    "collapsed": true
   },
   "outputs": [],
   "source": [
    "cross_tab = pd.crosstab(df_train.city,df_train.registered_via,dropna=True)"
   ]
  },
  {
   "cell_type": "code",
   "execution_count": 15,
   "metadata": {
    "ExecuteTime": {
     "end_time": "2018-12-12T06:04:34.405520Z",
     "start_time": "2018-12-12T06:04:34.398523Z"
    },
    "collapsed": true
   },
   "outputs": [],
   "source": [
    "# accept array-like\n",
    "new_index = cross_tab.index.values[::-1]"
   ]
  },
  {
   "cell_type": "code",
   "execution_count": 16,
   "metadata": {
    "ExecuteTime": {
     "end_time": "2018-12-12T06:04:34.688368Z",
     "start_time": "2018-12-12T06:04:34.409516Z"
    }
   },
   "outputs": [
    {
     "data": {
      "text/html": [
       "<div>\n",
       "<style scoped>\n",
       "    .dataframe tbody tr th:only-of-type {\n",
       "        vertical-align: middle;\n",
       "    }\n",
       "\n",
       "    .dataframe tbody tr th {\n",
       "        vertical-align: top;\n",
       "    }\n",
       "\n",
       "    .dataframe thead th {\n",
       "        text-align: right;\n",
       "    }\n",
       "</style>\n",
       "<table border=\"1\" class=\"dataframe\">\n",
       "  <thead>\n",
       "    <tr style=\"text-align: right;\">\n",
       "      <th>registered_via</th>\n",
       "      <th>3.0</th>\n",
       "      <th>4.0</th>\n",
       "      <th>7.0</th>\n",
       "      <th>9.0</th>\n",
       "      <th>13.0</th>\n",
       "    </tr>\n",
       "    <tr>\n",
       "      <th>city</th>\n",
       "      <th></th>\n",
       "      <th></th>\n",
       "      <th></th>\n",
       "      <th></th>\n",
       "      <th></th>\n",
       "    </tr>\n",
       "  </thead>\n",
       "  <tbody>\n",
       "    <tr>\n",
       "      <th>22.0</th>\n",
       "      <td>7479</td>\n",
       "      <td>2943</td>\n",
       "      <td>5972</td>\n",
       "      <td>16381</td>\n",
       "      <td>33</td>\n",
       "    </tr>\n",
       "    <tr>\n",
       "      <th>21.0</th>\n",
       "      <td>1022</td>\n",
       "      <td>398</td>\n",
       "      <td>922</td>\n",
       "      <td>2130</td>\n",
       "      <td>1</td>\n",
       "    </tr>\n",
       "    <tr>\n",
       "      <th>20.0</th>\n",
       "      <td>116</td>\n",
       "      <td>33</td>\n",
       "      <td>191</td>\n",
       "      <td>285</td>\n",
       "      <td>0</td>\n",
       "    </tr>\n",
       "    <tr>\n",
       "      <th>19.0</th>\n",
       "      <td>16</td>\n",
       "      <td>5</td>\n",
       "      <td>56</td>\n",
       "      <td>51</td>\n",
       "      <td>0</td>\n",
       "    </tr>\n",
       "    <tr>\n",
       "      <th>18.0</th>\n",
       "      <td>1225</td>\n",
       "      <td>478</td>\n",
       "      <td>1515</td>\n",
       "      <td>2940</td>\n",
       "      <td>3</td>\n",
       "    </tr>\n",
       "  </tbody>\n",
       "</table>\n",
       "</div>"
      ],
      "text/plain": [
       "registered_via  3.0   4.0   7.0    9.0   13.0\n",
       "city                                         \n",
       "22.0            7479  2943  5972  16381    33\n",
       "21.0            1022   398   922   2130     1\n",
       "20.0             116    33   191    285     0\n",
       "19.0              16     5    56     51     0\n",
       "18.0            1225   478  1515   2940     3"
      ]
     },
     "execution_count": 16,
     "metadata": {},
     "output_type": "execute_result"
    }
   ],
   "source": [
    "cross_tab.reindex(index=new_index).head()"
   ]
  },
  {
   "cell_type": "code",
   "execution_count": 17,
   "metadata": {
    "ExecuteTime": {
     "end_time": "2018-12-12T06:04:34.990185Z",
     "start_time": "2018-12-12T06:04:34.691355Z"
    }
   },
   "outputs": [
    {
     "data": {
      "text/html": [
       "<div>\n",
       "<style scoped>\n",
       "    .dataframe tbody tr th:only-of-type {\n",
       "        vertical-align: middle;\n",
       "    }\n",
       "\n",
       "    .dataframe tbody tr th {\n",
       "        vertical-align: top;\n",
       "    }\n",
       "\n",
       "    .dataframe thead th {\n",
       "        text-align: right;\n",
       "    }\n",
       "</style>\n",
       "<table border=\"1\" class=\"dataframe\">\n",
       "  <thead>\n",
       "    <tr style=\"text-align: right;\">\n",
       "      <th>registered_via</th>\n",
       "      <th>city</th>\n",
       "      <th>3.0</th>\n",
       "      <th>4.0</th>\n",
       "      <th>7.0</th>\n",
       "      <th>9.0</th>\n",
       "      <th>13.0</th>\n",
       "    </tr>\n",
       "  </thead>\n",
       "  <tbody>\n",
       "    <tr>\n",
       "      <th>0</th>\n",
       "      <td>1.0</td>\n",
       "      <td>12374</td>\n",
       "      <td>20623</td>\n",
       "      <td>387881</td>\n",
       "      <td>16065</td>\n",
       "      <td>2791</td>\n",
       "    </tr>\n",
       "    <tr>\n",
       "      <th>1</th>\n",
       "      <td>3.0</td>\n",
       "      <td>946</td>\n",
       "      <td>297</td>\n",
       "      <td>946</td>\n",
       "      <td>2148</td>\n",
       "      <td>1</td>\n",
       "    </tr>\n",
       "    <tr>\n",
       "      <th>2</th>\n",
       "      <td>4.0</td>\n",
       "      <td>8850</td>\n",
       "      <td>3263</td>\n",
       "      <td>9048</td>\n",
       "      <td>19002</td>\n",
       "      <td>38</td>\n",
       "    </tr>\n",
       "    <tr>\n",
       "      <th>3</th>\n",
       "      <td>5.0</td>\n",
       "      <td>13099</td>\n",
       "      <td>4990</td>\n",
       "      <td>13696</td>\n",
       "      <td>28646</td>\n",
       "      <td>40</td>\n",
       "    </tr>\n",
       "    <tr>\n",
       "      <th>4</th>\n",
       "      <td>6.0</td>\n",
       "      <td>4890</td>\n",
       "      <td>1869</td>\n",
       "      <td>3599</td>\n",
       "      <td>10177</td>\n",
       "      <td>23</td>\n",
       "    </tr>\n",
       "  </tbody>\n",
       "</table>\n",
       "</div>"
      ],
      "text/plain": [
       "registered_via  city    3.0    4.0     7.0    9.0  13.0\n",
       "0                1.0  12374  20623  387881  16065  2791\n",
       "1                3.0    946    297     946   2148     1\n",
       "2                4.0   8850   3263    9048  19002    38\n",
       "3                5.0  13099   4990   13696  28646    40\n",
       "4                6.0   4890   1869    3599  10177    23"
      ]
     },
     "execution_count": 17,
     "metadata": {},
     "output_type": "execute_result"
    }
   ],
   "source": [
    "# give new index\n",
    "cross_tab.reset_index().head()"
   ]
  },
  {
   "cell_type": "markdown",
   "metadata": {},
   "source": [
    "# cross_tab and plot"
   ]
  },
  {
   "cell_type": "markdown",
   "metadata": {},
   "source": [
    "* We can use cross_tab plot stacked!"
   ]
  },
  {
   "cell_type": "code",
   "execution_count": 12,
   "metadata": {
    "ExecuteTime": {
     "end_time": "2018-08-05T17:24:10.515918Z",
     "start_time": "2018-08-05T17:24:10.505925Z"
    },
    "collapsed": true
   },
   "outputs": [],
   "source": [
    "# pd.crosstab?"
   ]
  },
  {
   "cell_type": "code",
   "execution_count": 18,
   "metadata": {
    "ExecuteTime": {
     "end_time": "2018-12-12T06:04:35.289013Z",
     "start_time": "2018-12-12T06:04:34.993184Z"
    },
    "collapsed": true
   },
   "outputs": [],
   "source": [
    "# pd.DataFrame.reset_index?"
   ]
  },
  {
   "cell_type": "code",
   "execution_count": 19,
   "metadata": {
    "ExecuteTime": {
     "end_time": "2018-12-12T06:04:35.834701Z",
     "start_time": "2018-12-12T06:04:35.293011Z"
    }
   },
   "outputs": [
    {
     "data": {
      "text/html": [
       "<div>\n",
       "<style scoped>\n",
       "    .dataframe tbody tr th:only-of-type {\n",
       "        vertical-align: middle;\n",
       "    }\n",
       "\n",
       "    .dataframe tbody tr th {\n",
       "        vertical-align: top;\n",
       "    }\n",
       "\n",
       "    .dataframe thead th {\n",
       "        text-align: right;\n",
       "    }\n",
       "</style>\n",
       "<table border=\"1\" class=\"dataframe\">\n",
       "  <thead>\n",
       "    <tr style=\"text-align: right;\">\n",
       "      <th>registered_via</th>\n",
       "      <th>3.0</th>\n",
       "      <th>4.0</th>\n",
       "      <th>7.0</th>\n",
       "      <th>9.0</th>\n",
       "      <th>13.0</th>\n",
       "    </tr>\n",
       "    <tr>\n",
       "      <th>city</th>\n",
       "      <th></th>\n",
       "      <th></th>\n",
       "      <th></th>\n",
       "      <th></th>\n",
       "      <th></th>\n",
       "    </tr>\n",
       "  </thead>\n",
       "  <tbody>\n",
       "    <tr>\n",
       "      <th>1.0</th>\n",
       "      <td>12374</td>\n",
       "      <td>20623</td>\n",
       "      <td>387881</td>\n",
       "      <td>16065</td>\n",
       "      <td>2791</td>\n",
       "    </tr>\n",
       "    <tr>\n",
       "      <th>3.0</th>\n",
       "      <td>946</td>\n",
       "      <td>297</td>\n",
       "      <td>946</td>\n",
       "      <td>2148</td>\n",
       "      <td>1</td>\n",
       "    </tr>\n",
       "    <tr>\n",
       "      <th>4.0</th>\n",
       "      <td>8850</td>\n",
       "      <td>3263</td>\n",
       "      <td>9048</td>\n",
       "      <td>19002</td>\n",
       "      <td>38</td>\n",
       "    </tr>\n",
       "    <tr>\n",
       "      <th>5.0</th>\n",
       "      <td>13099</td>\n",
       "      <td>4990</td>\n",
       "      <td>13696</td>\n",
       "      <td>28646</td>\n",
       "      <td>40</td>\n",
       "    </tr>\n",
       "    <tr>\n",
       "      <th>6.0</th>\n",
       "      <td>4890</td>\n",
       "      <td>1869</td>\n",
       "      <td>3599</td>\n",
       "      <td>10177</td>\n",
       "      <td>23</td>\n",
       "    </tr>\n",
       "  </tbody>\n",
       "</table>\n",
       "</div>"
      ],
      "text/plain": [
       "registered_via   3.0    4.0     7.0    9.0   13.0\n",
       "city                                             \n",
       "1.0             12374  20623  387881  16065  2791\n",
       "3.0               946    297     946   2148     1\n",
       "4.0              8850   3263    9048  19002    38\n",
       "5.0             13099   4990   13696  28646    40\n",
       "6.0              4890   1869    3599  10177    23"
      ]
     },
     "execution_count": 19,
     "metadata": {},
     "output_type": "execute_result"
    }
   ],
   "source": [
    "df = pd.crosstab(df_train.city,df_train.registered_via,dropna=True)\n",
    "df.reset_index\n",
    "df.head()"
   ]
  },
  {
   "cell_type": "code",
   "execution_count": 4,
   "metadata": {
    "ExecuteTime": {
     "end_time": "2018-08-05T18:32:51.539533Z",
     "start_time": "2018-08-05T18:32:51.521542Z"
    }
   },
   "outputs": [
    {
     "name": "stdout",
     "output_type": "stream",
     "text": [
      "cmap_list:\n",
      " http://scipy.github.io/old-wiki/pages/Cookbook/Matplotlib/Show_colormaps\n"
     ]
    }
   ],
   "source": [
    "# refresh the style\n",
    "plt.rcParams.update(plt.rcParamsDefault)\n",
    "plt.style.available\n",
    "print('colormap_list:\\n',\"http://scipy.github.io/old-wiki/pages/Cookbook/Matplotlib/Show_colormaps\")"
   ]
  },
  {
   "cell_type": "code",
   "execution_count": 17,
   "metadata": {
    "ExecuteTime": {
     "end_time": "2018-08-05T18:37:26.367764Z",
     "start_time": "2018-08-05T18:37:26.363767Z"
    },
    "collapsed": true
   },
   "outputs": [],
   "source": [
    "'''with plt.style.context('seaborn-pastel'):\n",
    "    fig, ax = plt.subplots( figsize=(12,7))\n",
    "    pd.crosstab(df_train.city,df_train.registered_via,dropna=True).\\\n",
    "    plot(kind='bar',stacked=True,ax=ax)''';"
   ]
  },
  {
   "cell_type": "code",
   "execution_count": 3,
   "metadata": {
    "ExecuteTime": {
     "end_time": "2018-11-19T01:10:09.211214Z",
     "start_time": "2018-11-19T01:10:08.118821Z"
    }
   },
   "outputs": [
    {
     "data": {
      "image/png": "[encoded data removed]",
      "text/plain": [
       "<matplotlib.figure.Figure at 0x1815feb7b70>"
      ]
     },
     "metadata": {},
     "output_type": "display_data"
    }
   ],
   "source": [
    "fig,ax =plt.subplots(figsize=(8,6))\n",
    "pd.crosstab(df_train.city,df_train.registered_via,dropna=True)\\\n",
    ".plot(kind='bar',stacked=True,ax=ax,colormap='Accent')\n",
    "ax.set_yscale('squareroot')\n",
    "plt.show()\n",
    "# two ways to get color\n",
    "# plt.style all sucks expect seaborn-pastel\n",
    "# use colormap argument then pass a string"
   ]
  },
  {
   "cell_type": "code",
   "execution_count": 21,
   "metadata": {
    "ExecuteTime": {
     "end_time": "2018-12-12T06:05:32.214848Z",
     "start_time": "2018-12-12T06:05:32.208852Z"
    },
    "collapsed": true
   },
   "outputs": [],
   "source": [
    "# pd.crosstab?"
   ]
  },
  {
   "cell_type": "code",
   "execution_count": 22,
   "metadata": {
    "ExecuteTime": {
     "end_time": "2018-12-12T06:05:33.654025Z",
     "start_time": "2018-12-12T06:05:32.691576Z"
    }
   },
   "outputs": [
    {
     "data": {
      "image/png": "[encoded data removed]",
      "text/plain": [
       "<matplotlib.figure.Figure at 0x2a280315080>"
      ]
     },
     "metadata": {},
     "output_type": "display_data"
    }
   ],
   "source": [
    "fig,ax =plt.subplots(figsize=(8,6))\n",
    "pd.crosstab(df_train.city,df_train.registered_via,dropna=True,normalize=True)\\\n",
    ".plot(kind='bar',stacked=True,ax=ax,colormap='Accent')\n",
    "ax.set_yscale('squareroot')\n",
    "plt.show()\n",
    "# two ways to get color\n",
    "# plt.style all sucks expect seaborn-pastel\n",
    "# use colormap argument then pass a string"
   ]
  },
  {
   "cell_type": "code",
   "execution_count": 23,
   "metadata": {
    "ExecuteTime": {
     "end_time": "2018-12-12T06:05:34.491544Z",
     "start_time": "2018-12-12T06:05:34.235694Z"
    }
   },
   "outputs": [
    {
     "data": {
      "text/plain": [
       "registered_via\n",
       "3.0      12374\n",
       "4.0      20623\n",
       "7.0     387881\n",
       "9.0      16065\n",
       "13.0      2791\n",
       "Name: 1.0, dtype: int64"
      ]
     },
     "execution_count": 23,
     "metadata": {},
     "output_type": "execute_result"
    }
   ],
   "source": [
    "pd.crosstab(df_train.city,df_train.registered_via,dropna=True).iloc[0]"
   ]
  },
  {
   "cell_type": "markdown",
   "metadata": {},
   "source": [
    "## crosstab back to normal dataframe"
   ]
  },
  {
   "cell_type": "code",
   "execution_count": 24,
   "metadata": {
    "ExecuteTime": {
     "end_time": "2018-12-12T06:05:35.815835Z",
     "start_time": "2018-12-12T06:05:35.444054Z"
    }
   },
   "outputs": [
    {
     "data": {
      "text/html": [
       "<div>\n",
       "<style scoped>\n",
       "    .dataframe tbody tr th:only-of-type {\n",
       "        vertical-align: middle;\n",
       "    }\n",
       "\n",
       "    .dataframe tbody tr th {\n",
       "        vertical-align: top;\n",
       "    }\n",
       "\n",
       "    .dataframe thead th {\n",
       "        text-align: right;\n",
       "    }\n",
       "</style>\n",
       "<table border=\"1\" class=\"dataframe\">\n",
       "  <thead>\n",
       "    <tr style=\"text-align: right;\">\n",
       "      <th></th>\n",
       "      <th>registered_via</th>\n",
       "      <th>city</th>\n",
       "      <th>msno</th>\n",
       "      <th>is_churn</th>\n",
       "      <th>bd</th>\n",
       "      <th>gender</th>\n",
       "      <th>registration_init_time</th>\n",
       "    </tr>\n",
       "  </thead>\n",
       "  <tbody>\n",
       "    <tr>\n",
       "      <th>0</th>\n",
       "      <td>3.0</td>\n",
       "      <td>1.0</td>\n",
       "      <td>12374</td>\n",
       "      <td>12374</td>\n",
       "      <td>12374</td>\n",
       "      <td>5301</td>\n",
       "      <td>12374</td>\n",
       "    </tr>\n",
       "    <tr>\n",
       "      <th>1</th>\n",
       "      <td>3.0</td>\n",
       "      <td>3.0</td>\n",
       "      <td>946</td>\n",
       "      <td>946</td>\n",
       "      <td>946</td>\n",
       "      <td>832</td>\n",
       "      <td>946</td>\n",
       "    </tr>\n",
       "    <tr>\n",
       "      <th>2</th>\n",
       "      <td>3.0</td>\n",
       "      <td>4.0</td>\n",
       "      <td>8850</td>\n",
       "      <td>8850</td>\n",
       "      <td>8850</td>\n",
       "      <td>7919</td>\n",
       "      <td>8850</td>\n",
       "    </tr>\n",
       "    <tr>\n",
       "      <th>3</th>\n",
       "      <td>3.0</td>\n",
       "      <td>5.0</td>\n",
       "      <td>13099</td>\n",
       "      <td>13099</td>\n",
       "      <td>13099</td>\n",
       "      <td>11551</td>\n",
       "      <td>13099</td>\n",
       "    </tr>\n",
       "    <tr>\n",
       "      <th>4</th>\n",
       "      <td>3.0</td>\n",
       "      <td>6.0</td>\n",
       "      <td>4890</td>\n",
       "      <td>4890</td>\n",
       "      <td>4890</td>\n",
       "      <td>4418</td>\n",
       "      <td>4890</td>\n",
       "    </tr>\n",
       "  </tbody>\n",
       "</table>\n",
       "</div>"
      ],
      "text/plain": [
       "   registered_via  city   msno  is_churn     bd  gender  \\\n",
       "0             3.0   1.0  12374     12374  12374    5301   \n",
       "1             3.0   3.0    946       946    946     832   \n",
       "2             3.0   4.0   8850      8850   8850    7919   \n",
       "3             3.0   5.0  13099     13099  13099   11551   \n",
       "4             3.0   6.0   4890      4890   4890    4418   \n",
       "\n",
       "   registration_init_time  \n",
       "0                   12374  \n",
       "1                     946  \n",
       "2                    8850  \n",
       "3                   13099  \n",
       "4                    4890  "
      ]
     },
     "execution_count": 24,
     "metadata": {},
     "output_type": "execute_result"
    }
   ],
   "source": [
    "df_train.groupby(by=['registered_via','city'],as_index=False).count().head(5)\n",
    "# not work = ( )"
   ]
  },
  {
   "cell_type": "markdown",
   "metadata": {},
   "source": [
    "# Pivot_table and plot"
   ]
  },
  {
   "cell_type": "markdown",
   "metadata": {},
   "source": [
    "# GroupBy and plot"
   ]
  },
  {
   "cell_type": "markdown",
   "metadata": {},
   "source": [
    "* check the as_index = False to make result is also a dataframe in **groupby**"
   ]
  },
  {
   "cell_type": "code",
   "execution_count": 25,
   "metadata": {
    "ExecuteTime": {
     "end_time": "2018-12-12T06:05:37.767775Z",
     "start_time": "2018-12-12T06:05:37.575885Z"
    }
   },
   "outputs": [
    {
     "data": {
      "text/html": [
       "<table style=\"display:inline\" border=\"1\" class=\"dataframe\">\n",
       "  <thead>\n",
       "    <tr style=\"text-align: right;\">\n",
       "      <th></th>\n",
       "      <th>is_churn</th>\n",
       "    </tr>\n",
       "    <tr>\n",
       "      <th>registered_via</th>\n",
       "      <th></th>\n",
       "    </tr>\n",
       "  </thead>\n",
       "  <tbody>\n",
       "    <tr>\n",
       "      <th>3.0</th>\n",
       "      <td>0.135634</td>\n",
       "    </tr>\n",
       "    <tr>\n",
       "      <th>4.0</th>\n",
       "      <td>0.175386</td>\n",
       "    </tr>\n",
       "    <tr>\n",
       "      <th>7.0</th>\n",
       "      <td>0.011687</td>\n",
       "    </tr>\n",
       "    <tr>\n",
       "      <th>9.0</th>\n",
       "      <td>0.086887</td>\n",
       "    </tr>\n",
       "    <tr>\n",
       "      <th>13.0</th>\n",
       "      <td>0.049338</td>\n",
       "    </tr>\n",
       "  </tbody>\n",
       "</table style=\"display:inline\"><table style=\"display:inline\" border=\"1\" class=\"dataframe\">\n",
       "  <thead>\n",
       "    <tr style=\"text-align: right;\">\n",
       "      <th></th>\n",
       "      <th>registered_via</th>\n",
       "      <th>is_churn</th>\n",
       "    </tr>\n",
       "  </thead>\n",
       "  <tbody>\n",
       "    <tr>\n",
       "      <th>0</th>\n",
       "      <td>3.0</td>\n",
       "      <td>0.135634</td>\n",
       "    </tr>\n",
       "    <tr>\n",
       "      <th>1</th>\n",
       "      <td>4.0</td>\n",
       "      <td>0.175386</td>\n",
       "    </tr>\n",
       "    <tr>\n",
       "      <th>2</th>\n",
       "      <td>7.0</td>\n",
       "      <td>0.011687</td>\n",
       "    </tr>\n",
       "    <tr>\n",
       "      <th>3</th>\n",
       "      <td>9.0</td>\n",
       "      <td>0.086887</td>\n",
       "    </tr>\n",
       "    <tr>\n",
       "      <th>4</th>\n",
       "      <td>13.0</td>\n",
       "      <td>0.049338</td>\n",
       "    </tr>\n",
       "  </tbody>\n",
       "</table style=\"display:inline\">"
      ]
     },
     "metadata": {},
     "output_type": "display_data"
    }
   ],
   "source": [
    "# groupby options matter ! as_index = True (defult)\n",
    "df1  = df_train[['registered_via','is_churn']].groupby(['registered_via']).mean()\n",
    "# groupby options matter ! as_index = False \n",
    "df2 = df_train[['registered_via','is_churn']].groupby(by=['registered_via'],as_index=False).mean()\n",
    "display_side_by_side(df1, df2)\n",
    "# the back one make us easy to futher steps"
   ]
  },
  {
   "cell_type": "code",
   "execution_count": 26,
   "metadata": {
    "ExecuteTime": {
     "end_time": "2018-12-12T06:05:38.405411Z",
     "start_time": "2018-12-12T06:05:38.296472Z"
    }
   },
   "outputs": [
    {
     "data": {
      "text/html": [
       "<div>\n",
       "<style scoped>\n",
       "    .dataframe tbody tr th:only-of-type {\n",
       "        vertical-align: middle;\n",
       "    }\n",
       "\n",
       "    .dataframe tbody tr th {\n",
       "        vertical-align: top;\n",
       "    }\n",
       "\n",
       "    .dataframe thead th {\n",
       "        text-align: right;\n",
       "    }\n",
       "</style>\n",
       "<table border=\"1\" class=\"dataframe\">\n",
       "  <thead>\n",
       "    <tr style=\"text-align: right;\">\n",
       "      <th></th>\n",
       "      <th>registered_via</th>\n",
       "      <th>is_churn</th>\n",
       "    </tr>\n",
       "  </thead>\n",
       "  <tbody>\n",
       "    <tr>\n",
       "      <th>1</th>\n",
       "      <td>4.0</td>\n",
       "      <td>0.175386</td>\n",
       "    </tr>\n",
       "    <tr>\n",
       "      <th>0</th>\n",
       "      <td>3.0</td>\n",
       "      <td>0.135634</td>\n",
       "    </tr>\n",
       "    <tr>\n",
       "      <th>3</th>\n",
       "      <td>9.0</td>\n",
       "      <td>0.086887</td>\n",
       "    </tr>\n",
       "    <tr>\n",
       "      <th>4</th>\n",
       "      <td>13.0</td>\n",
       "      <td>0.049338</td>\n",
       "    </tr>\n",
       "    <tr>\n",
       "      <th>2</th>\n",
       "      <td>7.0</td>\n",
       "      <td>0.011687</td>\n",
       "    </tr>\n",
       "  </tbody>\n",
       "</table>\n",
       "</div>"
      ],
      "text/plain": [
       "   registered_via  is_churn\n",
       "1             4.0  0.175386\n",
       "0             3.0  0.135634\n",
       "3             9.0  0.086887\n",
       "4            13.0  0.049338\n",
       "2             7.0  0.011687"
      ]
     },
     "execution_count": 26,
     "metadata": {},
     "output_type": "execute_result"
    }
   ],
   "source": [
    "df_train[['registered_via','is_churn']].groupby(by=['registered_via'],as_index=False).\\\n",
    "mean().sort_values(by='is_churn',ascending=False)"
   ]
  },
  {
   "cell_type": "markdown",
   "metadata": {},
   "source": [
    "## with both mean and std"
   ]
  },
  {
   "cell_type": "code",
   "execution_count": 28,
   "metadata": {
    "ExecuteTime": {
     "end_time": "2018-12-12T06:05:43.311825Z",
     "start_time": "2018-12-12T06:05:43.305834Z"
    },
    "collapsed": true
   },
   "outputs": [],
   "source": [
    "#pd.DataFrame.groupby?"
   ]
  },
  {
   "cell_type": "markdown",
   "metadata": {},
   "source": [
    "Parameters by: mapping,function,str, or iterable \n",
    "\n",
    "we can pass function, dict, series --> determine tge groups\n",
    "\n",
    "ndarray, str,list --> group by the columns"
   ]
  },
  {
   "cell_type": "code",
   "execution_count": 29,
   "metadata": {
    "ExecuteTime": {
     "end_time": "2018-12-12T06:05:47.872647Z",
     "start_time": "2018-12-12T06:05:47.528844Z"
    }
   },
   "outputs": [
    {
     "data": {
      "text/html": [
       "<div>\n",
       "<style scoped>\n",
       "    .dataframe tbody tr th:only-of-type {\n",
       "        vertical-align: middle;\n",
       "    }\n",
       "\n",
       "    .dataframe tbody tr th {\n",
       "        vertical-align: top;\n",
       "    }\n",
       "\n",
       "    .dataframe thead tr th {\n",
       "        text-align: left;\n",
       "    }\n",
       "</style>\n",
       "<table border=\"1\" class=\"dataframe\">\n",
       "  <thead>\n",
       "    <tr>\n",
       "      <th></th>\n",
       "      <th>registered_via</th>\n",
       "      <th colspan=\"2\" halign=\"left\">is_churn</th>\n",
       "    </tr>\n",
       "    <tr>\n",
       "      <th></th>\n",
       "      <th></th>\n",
       "      <th>mean</th>\n",
       "      <th>std</th>\n",
       "    </tr>\n",
       "  </thead>\n",
       "  <tbody>\n",
       "    <tr>\n",
       "      <th>0</th>\n",
       "      <td>3.0</td>\n",
       "      <td>0.135634</td>\n",
       "      <td>0.342401</td>\n",
       "    </tr>\n",
       "    <tr>\n",
       "      <th>1</th>\n",
       "      <td>4.0</td>\n",
       "      <td>0.175386</td>\n",
       "      <td>0.380301</td>\n",
       "    </tr>\n",
       "    <tr>\n",
       "      <th>2</th>\n",
       "      <td>7.0</td>\n",
       "      <td>0.011687</td>\n",
       "      <td>0.107472</td>\n",
       "    </tr>\n",
       "    <tr>\n",
       "      <th>3</th>\n",
       "      <td>9.0</td>\n",
       "      <td>0.086887</td>\n",
       "      <td>0.281669</td>\n",
       "    </tr>\n",
       "    <tr>\n",
       "      <th>4</th>\n",
       "      <td>13.0</td>\n",
       "      <td>0.049338</td>\n",
       "      <td>0.216608</td>\n",
       "    </tr>\n",
       "  </tbody>\n",
       "</table>\n",
       "</div>"
      ],
      "text/plain": [
       "  registered_via  is_churn          \n",
       "                      mean       std\n",
       "0            3.0  0.135634  0.342401\n",
       "1            4.0  0.175386  0.380301\n",
       "2            7.0  0.011687  0.107472\n",
       "3            9.0  0.086887  0.281669\n",
       "4           13.0  0.049338  0.216608"
      ]
     },
     "execution_count": 29,
     "metadata": {},
     "output_type": "execute_result"
    }
   ],
   "source": [
    "# pass a dictionary as function \n",
    "f = {'is_churn': ['mean','std']}\n",
    "df3 = df_train[['registered_via','is_churn']].groupby(by=['registered_via'],as_index=False).agg(f)\n",
    "df3"
   ]
  },
  {
   "cell_type": "code",
   "execution_count": 30,
   "metadata": {
    "ExecuteTime": {
     "end_time": "2018-12-12T06:05:48.930042Z",
     "start_time": "2018-12-12T06:05:48.774150Z"
    }
   },
   "outputs": [
    {
     "data": {
      "text/plain": [
       "0     3.0\n",
       "1     4.0\n",
       "2     7.0\n",
       "3     9.0\n",
       "4    13.0\n",
       "Name: registered_via, dtype: float64"
      ]
     },
     "metadata": {},
     "output_type": "display_data"
    },
    {
     "data": {
      "text/html": [
       "<div>\n",
       "<style scoped>\n",
       "    .dataframe tbody tr th:only-of-type {\n",
       "        vertical-align: middle;\n",
       "    }\n",
       "\n",
       "    .dataframe tbody tr th {\n",
       "        vertical-align: top;\n",
       "    }\n",
       "\n",
       "    .dataframe thead th {\n",
       "        text-align: right;\n",
       "    }\n",
       "</style>\n",
       "<table border=\"1\" class=\"dataframe\">\n",
       "  <thead>\n",
       "    <tr style=\"text-align: right;\">\n",
       "      <th></th>\n",
       "      <th>mean</th>\n",
       "      <th>std</th>\n",
       "    </tr>\n",
       "  </thead>\n",
       "  <tbody>\n",
       "    <tr>\n",
       "      <th>0</th>\n",
       "      <td>0.135634</td>\n",
       "      <td>0.342401</td>\n",
       "    </tr>\n",
       "    <tr>\n",
       "      <th>1</th>\n",
       "      <td>0.175386</td>\n",
       "      <td>0.380301</td>\n",
       "    </tr>\n",
       "    <tr>\n",
       "      <th>2</th>\n",
       "      <td>0.011687</td>\n",
       "      <td>0.107472</td>\n",
       "    </tr>\n",
       "    <tr>\n",
       "      <th>3</th>\n",
       "      <td>0.086887</td>\n",
       "      <td>0.281669</td>\n",
       "    </tr>\n",
       "    <tr>\n",
       "      <th>4</th>\n",
       "      <td>0.049338</td>\n",
       "      <td>0.216608</td>\n",
       "    </tr>\n",
       "  </tbody>\n",
       "</table>\n",
       "</div>"
      ],
      "text/plain": [
       "       mean       std\n",
       "0  0.135634  0.342401\n",
       "1  0.175386  0.380301\n",
       "2  0.011687  0.107472\n",
       "3  0.086887  0.281669\n",
       "4  0.049338  0.216608"
      ]
     },
     "metadata": {},
     "output_type": "display_data"
    },
    {
     "data": {
      "text/plain": [
       "0    0.342401\n",
       "1    0.380301\n",
       "2    0.107472\n",
       "3    0.281669\n",
       "4    0.216608\n",
       "Name: (is_churn, std), dtype: float64"
      ]
     },
     "execution_count": 30,
     "metadata": {},
     "output_type": "execute_result"
    }
   ],
   "source": [
    "# index\n",
    "display(df3['registered_via'])\n",
    "# columns is a multi-index-object\n",
    "display(df3['is_churn'])\n",
    "# index in multi-index-object use loc.['index','column']\n",
    "df3.loc[1,'is_churn']\n",
    "# the second level in muitl-index\n",
    "df3['is_churn','std'] # ['first level','second level']"
   ]
  },
  {
   "cell_type": "markdown",
   "metadata": {},
   "source": [
    "## Filter the deplicate df"
   ]
  },
  {
   "cell_type": "code",
   "execution_count": 218,
   "metadata": {
    "ExecuteTime": {
     "end_time": "2018-07-30T06:12:01.558540Z",
     "start_time": "2018-07-30T06:12:01.479586Z"
    },
    "collapsed": true
   },
   "outputs": [],
   "source": [
    "grouped = df4.groupby(by=['A'])\n",
    "# take out the first\n",
    "index = [gp_keys[0] for gp_keys in grouped.groups.values()]\n",
    "unique_df = df4.reindex(index)"
   ]
  },
  {
   "cell_type": "code",
   "execution_count": 219,
   "metadata": {
    "ExecuteTime": {
     "end_time": "2018-07-30T06:12:05.280405Z",
     "start_time": "2018-07-30T06:12:05.265415Z"
    }
   },
   "outputs": [
    {
     "data": {
      "text/html": [
       "<div>\n",
       "<style>\n",
       "    .dataframe thead tr:only-child th {\n",
       "        text-align: right;\n",
       "    }\n",
       "\n",
       "    .dataframe thead th {\n",
       "        text-align: left;\n",
       "    }\n",
       "\n",
       "    .dataframe tbody tr th {\n",
       "        vertical-align: top;\n",
       "    }\n",
       "</style>\n",
       "<table border=\"1\" class=\"dataframe\">\n",
       "  <thead>\n",
       "    <tr style=\"text-align: right;\">\n",
       "      <th></th>\n",
       "      <th>A</th>\n",
       "      <th>B</th>\n",
       "    </tr>\n",
       "  </thead>\n",
       "  <tbody>\n",
       "    <tr>\n",
       "      <th>0</th>\n",
       "      <td>1</td>\n",
       "      <td>10.000000</td>\n",
       "    </tr>\n",
       "    <tr>\n",
       "      <th>1</th>\n",
       "      <td>2</td>\n",
       "      <td>14.444444</td>\n",
       "    </tr>\n",
       "  </tbody>\n",
       "</table>\n",
       "</div>"
      ],
      "text/plain": [
       "   A          B\n",
       "0  1  10.000000\n",
       "1  2  14.444444"
      ]
     },
     "execution_count": 219,
     "metadata": {},
     "output_type": "execute_result"
    }
   ],
   "source": [
    "unique_df"
   ]
  },
  {
   "cell_type": "markdown",
   "metadata": {
    "ExecuteTime": {
     "end_time": "2018-07-30T06:39:09.591783Z",
     "start_time": "2018-07-30T06:39:09.580792Z"
    },
    "collapsed": true
   },
   "source": [
    "[article](https://scentellegher.github.io/programming/2017/07/15/pandas-groupby-multiple-columns-plot.html)"
   ]
  },
  {
   "cell_type": "markdown",
   "metadata": {
    "collapsed": true
   },
   "source": [
    "# Large Scale data"
   ]
  },
  {
   "cell_type": "code",
   "execution_count": 45,
   "metadata": {
    "ExecuteTime": {
     "end_time": "2018-12-12T06:11:22.252446Z",
     "start_time": "2018-12-12T06:11:01.508235Z"
    }
   },
   "outputs": [
    {
     "name": "stdout",
     "output_type": "stream",
     "text": [
      "Interation is stopped\n"
     ]
    }
   ],
   "source": [
    "# read with chunks\n",
    "# -----------------------------\n",
    "# reader, set iterator = true\n",
    "reader = pd.read_csv('members_v3.gzip',iterator=True,compression='gzip')\n",
    "\n",
    "# use while loop, chunkszie by exp , performed better when 5~15 dataframe concat\n",
    "# alias chunk_tot means chunk_total instead of chunks which is more to distingwish\n",
    "\n",
    "loop = True\n",
    "chunksize = 2e5\n",
    "chunk_tot = []\n",
    "while loop:\n",
    "  try:\n",
    "    chunk = reader.get_chunk(chunksize)\n",
    "    chunk_tot.append(chunk)\n",
    "  except StopIteration:\n",
    "      loop = False\n",
    "      print(\"Interation is stopped\")\n",
    "df = pd.concat(chunk_tot,ignore_index=True)"
   ]
  },
  {
   "cell_type": "code",
   "execution_count": 46,
   "metadata": {
    "ExecuteTime": {
     "end_time": "2018-12-12T06:11:59.518599Z",
     "start_time": "2018-12-12T06:11:59.303741Z"
    },
    "collapsed": true
   },
   "outputs": [],
   "source": [
    "del df "
   ]
  },
  {
   "cell_type": "markdown",
   "metadata": {
    "ExecuteTime": {
     "end_time": "2018-08-10T13:46:55.866737Z",
     "start_time": "2018-08-10T13:46:25.524Z"
    }
   },
   "source": [
    "## sampleing reading"
   ]
  },
  {
   "cell_type": "code",
   "execution_count": 49,
   "metadata": {
    "ExecuteTime": {
     "end_time": "2018-12-12T06:12:58.541997Z",
     "start_time": "2018-12-12T06:12:43.975341Z"
    }
   },
   "outputs": [],
   "source": [
    "import random\n",
    "p = 0.4  # 1% of the lines\n",
    "# keep the header, then take only 1% of lines\n",
    "# if random from [0,1] interval is greater than 0.01 the row will be skipped\n",
    "filename = 'members_v3.gzip'\n",
    "df = pd.read_csv(\n",
    "         filename,\n",
    "         compression='gzip',\n",
    "         header=0, \n",
    "         skiprows=lambda i: i>0 and random.random() > p)"
   ]
  },
  {
   "cell_type": "code",
   "execution_count": 50,
   "metadata": {
    "ExecuteTime": {
     "end_time": "2018-12-12T06:13:16.167609Z",
     "start_time": "2018-12-12T06:13:16.156636Z"
    }
   },
   "outputs": [
    {
     "name": "stdout",
     "output_type": "stream",
     "text": [
      "<class 'pandas.core.frame.DataFrame'>\n",
      "RangeIndex: 2708893 entries, 0 to 2708892\n",
      "Data columns (total 6 columns):\n",
      "msno                      object\n",
      "city                      int64\n",
      "bd                        int64\n",
      "gender                    object\n",
      "registered_via            int64\n",
      "registration_init_time    int64\n",
      "dtypes: int64(4), object(2)\n",
      "memory usage: 124.0+ MB\n"
     ]
    }
   ],
   "source": [
    "df.info()"
   ]
  },
  {
   "cell_type": "markdown",
   "metadata": {},
   "source": [
    "## change datatype"
   ]
  },
  {
   "cell_type": "markdown",
   "metadata": {},
   "source": [
    "### object"
   ]
  },
  {
   "cell_type": "code",
   "execution_count": 51,
   "metadata": {
    "ExecuteTime": {
     "end_time": "2018-12-12T06:13:18.514307Z",
     "start_time": "2018-12-12T06:13:18.317424Z"
    }
   },
   "outputs": [
    {
     "data": {
      "text/plain": [
       "Index(['msno', 'gender'], dtype='object')"
      ]
     },
     "execution_count": 51,
     "metadata": {},
     "output_type": "execute_result"
    }
   ],
   "source": [
    "df.select_dtypes(include=['object']).columns"
   ]
  },
  {
   "cell_type": "code",
   "execution_count": 52,
   "metadata": {
    "ExecuteTime": {
     "end_time": "2018-12-12T06:13:20.130382Z",
     "start_time": "2018-12-12T06:13:19.050001Z"
    }
   },
   "outputs": [
    {
     "name": "stdout",
     "output_type": "stream",
     "text": [
      "unique ratio : 1.000\n"
     ]
    }
   ],
   "source": [
    "print('unique ratio : %.3f' %(len(df.msno.unique()) / df.shape[0]) )"
   ]
  },
  {
   "cell_type": "code",
   "execution_count": 53,
   "metadata": {
    "ExecuteTime": {
     "end_time": "2018-12-12T06:13:23.036754Z",
     "start_time": "2018-12-12T06:13:20.728065Z"
    },
    "collapsed": true
   },
   "outputs": [],
   "source": [
    "# unique ratio under 0.5 then use category\n",
    "df_obj = df.select_dtypes(include=['object'])\n",
    "converted_obj = pd.DataFrame()\n",
    "for col in df_obj.columns:\n",
    "    # unique only works on pd.Series\n",
    "    num_unique = len( df_obj[col].unique() )\n",
    "    num_total  = len(df_obj[col])\n",
    "    if num_unique / num_total < 0.5:\n",
    "        # loc is slow but needed\n",
    "        converted_obj.loc[:,col] = df_obj[col].astype('category')\n",
    "    else:\n",
    "        converted_obj.loc[:,col] = df_obj[col]"
   ]
  },
  {
   "cell_type": "code",
   "execution_count": 54,
   "metadata": {
    "ExecuteTime": {
     "end_time": "2018-12-12T06:13:23.286599Z",
     "start_time": "2018-12-12T06:13:23.275607Z"
    }
   },
   "outputs": [
    {
     "name": "stdout",
     "output_type": "stream",
     "text": [
      "<class 'pandas.core.frame.DataFrame'>\n",
      "RangeIndex: 2708893 entries, 0 to 2708892\n",
      "Data columns (total 2 columns):\n",
      "msno      object\n",
      "gender    category\n",
      "dtypes: category(1), object(1)\n",
      "memory usage: 23.3+ MB\n"
     ]
    }
   ],
   "source": [
    "converted_obj.info()"
   ]
  },
  {
   "cell_type": "markdown",
   "metadata": {},
   "source": [
    "### numbers (int & float)"
   ]
  },
  {
   "cell_type": "code",
   "execution_count": 55,
   "metadata": {
    "ExecuteTime": {
     "end_time": "2018-12-12T06:13:25.553379Z",
     "start_time": "2018-12-12T06:13:25.469429Z"
    },
    "collapsed": true
   },
   "outputs": [],
   "source": [
    "# int \n",
    "df_int = df.select_dtypes(include=['int64'])"
   ]
  },
  {
   "cell_type": "code",
   "execution_count": 57,
   "metadata": {
    "ExecuteTime": {
     "end_time": "2018-12-12T06:13:31.684254Z",
     "start_time": "2018-12-12T06:13:31.678260Z"
    },
    "collapsed": true
   },
   "outputs": [],
   "source": [
    "# pd.to_numeric?\n",
    "# checking the dtype useing uint only positive and long , int negative and positive but short"
   ]
  },
  {
   "cell_type": "code",
   "execution_count": 58,
   "metadata": {
    "ExecuteTime": {
     "end_time": "2018-12-12T06:13:33.425273Z",
     "start_time": "2018-12-12T06:13:32.342899Z"
    },
    "collapsed": true
   },
   "outputs": [],
   "source": [
    "# pd.to_numeric function\n",
    "converted_int = df_int.apply(pd.to_numeric,downcast='unsigned')\n",
    "# float just do the same over again"
   ]
  },
  {
   "cell_type": "code",
   "execution_count": 59,
   "metadata": {
    "ExecuteTime": {
     "end_time": "2018-12-12T06:13:33.439250Z",
     "start_time": "2018-12-12T06:13:33.428257Z"
    }
   },
   "outputs": [
    {
     "name": "stdout",
     "output_type": "stream",
     "text": [
      "<class 'pandas.core.frame.DataFrame'>\n",
      "RangeIndex: 2708893 entries, 0 to 2708892\n",
      "Data columns (total 4 columns):\n",
      "city                      uint8\n",
      "bd                        int64\n",
      "registered_via            uint8\n",
      "registration_init_time    uint32\n",
      "dtypes: int64(1), uint32(1), uint8(2)\n",
      "memory usage: 36.2 MB\n"
     ]
    }
   ],
   "source": [
    "converted_int.info()"
   ]
  },
  {
   "cell_type": "markdown",
   "metadata": {},
   "source": [
    "### dtype dictionary"
   ]
  },
  {
   "cell_type": "code",
   "execution_count": 60,
   "metadata": {
    "ExecuteTime": {
     "end_time": "2018-12-12T06:13:36.984905Z",
     "start_time": "2018-12-12T06:13:36.864975Z"
    }
   },
   "outputs": [
    {
     "data": {
      "text/plain": [
       "{'msno': 'object',\n",
       " 'gender': 'category',\n",
       " 'city': 'uint8',\n",
       " 'bd': 'int64',\n",
       " 'registered_via': 'uint8',\n",
       " 'registration_init_time': 'uint32'}"
      ]
     },
     "execution_count": 60,
     "metadata": {},
     "output_type": "execute_result"
    }
   ],
   "source": [
    "# concat\n",
    "optimized_df = pd.concat([converted_obj,converted_int],axis=1)\n",
    "# dtypes to values\n",
    "dtypes = optimized_df.dtypes\n",
    "# dtype_col to key\n",
    "dtype_col = dtypes.index\n",
    "# dtyle list useing list comprehesion\n",
    "dtypes_type = [i.name\n",
    "              for i in dtypes.values]\n",
    "# zip up for dictionary\n",
    "columns_type = dict(zip(dtype_col, dtypes_type))\n",
    "columns_type"
   ]
  },
  {
   "cell_type": "code",
   "execution_count": 61,
   "metadata": {
    "ExecuteTime": {
     "end_time": "2018-12-12T06:13:38.488044Z",
     "start_time": "2018-12-12T06:13:38.482048Z"
    },
    "collapsed": true
   },
   "outputs": [],
   "source": [
    "# if there are a lot of columns\n",
    "# dictionary comprehesion\n",
    "# preview = {key: value for key, value in list(columns_type.keys())[:3]}"
   ]
  },
  {
   "cell_type": "code",
   "execution_count": 63,
   "metadata": {
    "ExecuteTime": {
     "end_time": "2018-12-12T06:14:17.515973Z",
     "start_time": "2018-12-12T06:13:59.118474Z"
    }
   },
   "outputs": [
    {
     "name": "stdout",
     "output_type": "stream",
     "text": [
      "Interation is stopped\n"
     ]
    }
   ],
   "source": [
    "# read with chunks\n",
    "# pass columns_type\n",
    "reader = pd.read_csv('members_v3.gzip',dtype=columns_type,compression='gzip',iterator=True)\n",
    "# pass category with chunk together is a bad idea!\n",
    "\n",
    "loop = True\n",
    "chunksize = 2e6\n",
    "chunk_tot = []\n",
    "while loop:\n",
    "  try:\n",
    "    chunk = reader.get_chunk(chunksize)\n",
    "    chunk_tot.append(chunk)\n",
    "  except StopIteration:\n",
    "      loop = False\n",
    "      print(\"Interation is stopped\")\n",
    "optimized_df = pd.concat(chunk_tot,ignore_index=True)"
   ]
  },
  {
   "cell_type": "code",
   "execution_count": 64,
   "metadata": {
    "ExecuteTime": {
     "end_time": "2018-12-12T06:14:20.330515Z",
     "start_time": "2018-12-12T06:14:20.284558Z"
    }
   },
   "outputs": [
    {
     "name": "stdout",
     "output_type": "stream",
     "text": [
      "<class 'pandas.core.frame.DataFrame'>\n",
      "RangeIndex: 6769473 entries, 0 to 6769472\n",
      "Data columns (total 6 columns):\n",
      "msno                      object\n",
      "city                      uint8\n",
      "bd                        int64\n",
      "gender                    category\n",
      "registered_via            uint8\n",
      "registration_init_time    uint32\n",
      "dtypes: category(1), int64(1), object(1), uint32(1), uint8(2)\n",
      "memory usage: 148.5+ MB\n"
     ]
    }
   ],
   "source": [
    "optimized_df.info()"
   ]
  },
  {
   "cell_type": "code",
   "execution_count": 66,
   "metadata": {
    "ExecuteTime": {
     "end_time": "2018-12-12T06:14:54.330293Z",
     "start_time": "2018-12-12T06:14:54.325296Z"
    }
   },
   "outputs": [],
   "source": [
    "# optimized_df.msno = optimized_df.msno.astype('category')"
   ]
  },
  {
   "cell_type": "code",
   "execution_count": 67,
   "metadata": {
    "ExecuteTime": {
     "end_time": "2018-12-12T06:14:55.511616Z",
     "start_time": "2018-12-12T06:14:55.500622Z"
    }
   },
   "outputs": [
    {
     "name": "stdout",
     "output_type": "stream",
     "text": [
      "<class 'pandas.core.frame.DataFrame'>\n",
      "RangeIndex: 6769473 entries, 0 to 6769472\n",
      "Data columns (total 6 columns):\n",
      "msno                      object\n",
      "city                      uint8\n",
      "bd                        int64\n",
      "gender                    category\n",
      "registered_via            uint8\n",
      "registration_init_time    uint32\n",
      "dtypes: category(1), int64(1), object(1), uint32(1), uint8(2)\n",
      "memory usage: 148.5+ MB\n"
     ]
    }
   ],
   "source": [
    "optimized_df.info()"
   ]
  }
 ],
 "metadata": {
  "kernelspec": {
   "display_name": "Python 3",
   "language": "python",
   "name": "python3"
  },
  "language_info": {
   "codemirror_mode": {
    "name": "ipython",
    "version": 3
   },
   "file_extension": ".py",
   "mimetype": "text/x-python",
   "name": "python",
   "nbconvert_exporter": "python",
   "pygments_lexer": "ipython3",
   "version": "3.6.1"
  },
  "toc": {
   "base_numbering": 1,
   "nav_menu": {},
   "number_sections": true,
   "sideBar": true,
   "skip_h1_title": false,
   "title_cell": "Table of Contents",
   "title_sidebar": "Contents",
   "toc_cell": false,
   "toc_position": {
    "height": "calc(100% - 180px)",
    "left": "10px",
    "top": "150px",
    "width": "310px"
   },
   "toc_section_display": true,
   "toc_window_display": true
  }
 },
 "nbformat": 4,
 "nbformat_minor": 2
}

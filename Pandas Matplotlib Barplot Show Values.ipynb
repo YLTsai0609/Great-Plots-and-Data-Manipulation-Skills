{
 "cells": [
  {
   "cell_type": "code",
   "execution_count": 1,
   "metadata": {
    "ExecuteTime": {
     "end_time": "2018-12-12T05:58:08.952245Z",
     "start_time": "2018-12-12T05:58:06.841390Z"
    },
    "collapsed": true
   },
   "outputs": [],
   "source": [
    "import numpy as np \n",
    "import pandas as pd \n",
    "import matplotlib.pyplot as plt\n",
    "import seaborn as sns\n",
    "%matplotlib inline\n",
    "# for display dataframe\n",
    "from IPython.display import display\n",
    "from IPython.display import display_html\n",
    "def display_side_by_side(*args):\n",
    "    html_str=''\n",
    "    for df in args:\n",
    "        html_str+=df.to_html()\n",
    "    display_html(html_str.replace('table','table style=\"display:inline\"'),raw=True)\n",
    "import matplotlib.ticker as ticker"
   ]
  },
  {
   "cell_type": "code",
   "execution_count": 2,
   "metadata": {
    "ExecuteTime": {
     "end_time": "2018-12-12T05:58:44.618408Z",
     "start_time": "2018-12-12T05:58:26.991505Z"
    },
    "collapsed": true
   },
   "outputs": [],
   "source": [
    "train = pd.read_csv('user_label_201703.gzip',compression='gzip')\n",
    "members = pd.read_csv('members_v3.gzip',compression='gzip')"
   ]
  },
  {
   "cell_type": "code",
   "execution_count": 3,
   "metadata": {
    "ExecuteTime": {
     "end_time": "2018-12-12T05:58:45.656833Z",
     "start_time": "2018-12-12T05:58:44.622405Z"
    }
   },
   "outputs": [
    {
     "data": {
      "image/png": "[encoded data removed]",
      "text/plain": [
       "<matplotlib.figure.Figure at 0x207e201ab00>"
      ]
     },
     "metadata": {},
     "output_type": "display_data"
    }
   ],
   "source": [
    "# creat df\n",
    "tem = pd.DataFrame(train['is_churn'].value_counts())\n",
    "tem['%'] = tem['is_churn']/len(train)\n",
    "# plots\n",
    "# left\n",
    "ax = sns.countplot(train['is_churn'])\n",
    "for index, row in tem.iterrows():\n",
    "    ax.text(index, row.is_churn ,row['%'].round(3),color='black',ha='center')\n",
    "# ax.yaxis.tick_left()\n",
    "# right\n",
    "'''ax2 = ax.twinx()\n",
    "ax2.yaxis.tick_right()\n",
    "ax2.set_ylabel('%')''';\n",
    "# spacing\n",
    "# ax2.grid(None)\n",
    "plt.show()"
   ]
  },
  {
   "cell_type": "code",
   "execution_count": 4,
   "metadata": {
    "ExecuteTime": {
     "end_time": "2018-12-12T05:58:52.435930Z",
     "start_time": "2018-12-12T05:58:45.659811Z"
    }
   },
   "outputs": [
    {
     "data": {
      "image/png": "[encoded data removed]",
      "text/plain": [
       "<matplotlib.figure.Figure at 0x2078045cfd0>"
      ]
     },
     "metadata": {},
     "output_type": "display_data"
    }
   ],
   "source": [
    "# creat df\n",
    "df_gender = pd.DataFrame(members['gender'].fillna('NaN'))\n",
    "plot_gender = pd.DataFrame(df_gender.gender.value_counts())\n",
    "plot_gender['%'] = plot_gender['gender'] / len(members)\n",
    "# plot\n",
    "# left\n",
    "ax = sns.countplot(data=df_gender,x='gender',palette=(\"summer\"))\n",
    "# set palette necessary ?\n",
    "for i in range(3):\n",
    "    # each position\n",
    "    ax.text(i, plot_gender.iloc[i,0] ,plot_gender['%'].iloc[i].round(3),color='black',ha='center')\n",
    "# ax.yaxis.tick_left()\n",
    "# right\n",
    "'''ax2 = ax.twinx()\n",
    "ax2.yaxis.tick_right()\n",
    "ax2.set_ylabel('%')''';\n",
    "# spacing\n",
    "# ax2.grid(None)\n",
    "plt.show()"
   ]
  },
  {
   "cell_type": "code",
   "execution_count": 5,
   "metadata": {
    "ExecuteTime": {
     "end_time": "2018-12-12T05:58:52.639814Z",
     "start_time": "2018-12-12T05:58:52.439928Z"
    }
   },
   "outputs": [
    {
     "data": {
      "text/html": [
       "<div>\n",
       "<style scoped>\n",
       "    .dataframe tbody tr th:only-of-type {\n",
       "        vertical-align: middle;\n",
       "    }\n",
       "\n",
       "    .dataframe tbody tr th {\n",
       "        vertical-align: top;\n",
       "    }\n",
       "\n",
       "    .dataframe thead th {\n",
       "        text-align: right;\n",
       "    }\n",
       "</style>\n",
       "<table border=\"1\" class=\"dataframe\">\n",
       "  <thead>\n",
       "    <tr style=\"text-align: right;\">\n",
       "      <th></th>\n",
       "      <th>registered_via</th>\n",
       "      <th>count</th>\n",
       "    </tr>\n",
       "  </thead>\n",
       "  <tbody>\n",
       "    <tr>\n",
       "      <th>0</th>\n",
       "      <td>4</td>\n",
       "      <td>2793213</td>\n",
       "    </tr>\n",
       "    <tr>\n",
       "      <th>1</th>\n",
       "      <td>3</td>\n",
       "      <td>1643208</td>\n",
       "    </tr>\n",
       "    <tr>\n",
       "      <th>2</th>\n",
       "      <td>9</td>\n",
       "      <td>1482863</td>\n",
       "    </tr>\n",
       "    <tr>\n",
       "      <th>3</th>\n",
       "      <td>7</td>\n",
       "      <td>805895</td>\n",
       "    </tr>\n",
       "    <tr>\n",
       "      <th>4</th>\n",
       "      <td>11</td>\n",
       "      <td>25047</td>\n",
       "    </tr>\n",
       "  </tbody>\n",
       "</table>\n",
       "</div>"
      ],
      "text/plain": [
       "   registered_via    count\n",
       "0               4  2793213\n",
       "1               3  1643208\n",
       "2               9  1482863\n",
       "3               7   805895\n",
       "4              11    25047"
      ]
     },
     "execution_count": 5,
     "metadata": {},
     "output_type": "execute_result"
    }
   ],
   "source": [
    "# df creation\n",
    "reg_via_df = pd.DataFrame(members['registered_via'].value_counts()).reset_index()\n",
    "reg_via_df = reg_via_df.rename(index=str, columns={\"index\": \"registered_via\", \"registered_via\": \"count\"})\n",
    "# reg_via_df['%'] = reg_via_df['count'] / len(members)\n",
    "reg_via_df.head()"
   ]
  },
  {
   "cell_type": "code",
   "execution_count": 6,
   "metadata": {
    "ExecuteTime": {
     "end_time": "2018-12-12T05:58:53.938072Z",
     "start_time": "2018-12-12T05:58:52.643811Z"
    }
   },
   "outputs": [
    {
     "data": {
      "image/png": "[encoded data removed]",
      "text/plain": [
       "<matplotlib.figure.Figure at 0x207803a3c18>"
      ]
     },
     "metadata": {},
     "output_type": "display_data"
    }
   ],
   "source": [
    "# seaborn countnot display values and sort suck\n",
    "# ax = sns.countplot(members['registered_via'],palette=('Blues_d'))\n",
    "ax = reg_via_df.head(6).plot.bar(x='registered_via',y='count',color=plt.cm.Paired(np.arange(len(reg_via_df))),legend=False)\n",
    "ax.set_xlabel('registered_via')\n",
    "ax.set_ylabel('count')\n",
    "ax.set_yscale('log')\n",
    "for p in ax.patches:\n",
    "    ax.annotate('%.3f' % (p.get_height()/len(members) ), (p.get_x() * 1.005, p.get_height() * 1.005))"
   ]
  }
 ],
 "metadata": {
  "kernelspec": {
   "display_name": "Python 3",
   "language": "python",
   "name": "python3"
  },
  "language_info": {
   "codemirror_mode": {
    "name": "ipython",
    "version": 3
   },
   "file_extension": ".py",
   "mimetype": "text/x-python",
   "name": "python",
   "nbconvert_exporter": "python",
   "pygments_lexer": "ipython3",
   "version": "3.6.1"
  },
  "toc": {
   "base_numbering": 1,
   "nav_menu": {},
   "number_sections": true,
   "sideBar": true,
   "skip_h1_title": false,
   "title_cell": "Table of Contents",
   "title_sidebar": "Contents",
   "toc_cell": false,
   "toc_position": {},
   "toc_section_display": true,
   "toc_window_display": false
  }
 },
 "nbformat": 4,
 "nbformat_minor": 2
}
